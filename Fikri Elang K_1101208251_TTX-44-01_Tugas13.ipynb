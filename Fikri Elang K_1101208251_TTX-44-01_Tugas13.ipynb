{
  "nbformat": 4,
  "nbformat_minor": 0,
  "metadata": {
    "colab": {
      "name": "Untitled3.ipynb",
      "provenance": [],
      "collapsed_sections": [],
      "authorship_tag": "ABX9TyMVpKg+rBoseaBX9WO2+DF+",
      "include_colab_link": true
    },
    "kernelspec": {
      "name": "python3",
      "display_name": "Python 3"
    }
  },
  "cells": [
    {
      "cell_type": "markdown",
      "metadata": {
        "id": "view-in-github",
        "colab_type": "text"
      },
      "source": [
        "<a href=\"https://colab.research.google.com/github/Fikrielang/Pemrograman-Python/blob/main/Fikri%20Elang%20K_1101208251_TTX-44-01_Tugas13.ipynb\" target=\"_parent\"><img src=\"https://colab.research.google.com/assets/colab-badge.svg\" alt=\"Open In Colab\"/></a>"
      ]
    },
    {
      "cell_type": "markdown",
      "metadata": {
        "id": "4ZkkoFfmuA7Q"
      },
      "source": [
        "Numpy dan Matplotlib\r\n",
        "\r\n",
        "Python for Path Loss Simulation\r\n",
        "\r\n",
        "TUGAS 13 - PEMROGRAMAN PYTHON\r\n",
        "\r\n",
        "Fikri Elang Kesuma / 1101208251 / TTX-44-01"
      ]
    },
    {
      "cell_type": "code",
      "metadata": {
        "id": "HWpQSZyNoL_M"
      },
      "source": [
        "import numpy as np\r\n",
        "import matplotlib.pyplot as plt"
      ],
      "execution_count": 2,
      "outputs": []
    },
    {
      "cell_type": "code",
      "metadata": {
        "colab": {
          "base_uri": "https://localhost:8080/"
        },
        "id": "yNoai9Q4rL8y",
        "outputId": "8e4417a0-aa0e-45b3-d61c-7463dfd4d965"
      },
      "source": [
        "np.zeros(4)"
      ],
      "execution_count": 3,
      "outputs": [
        {
          "output_type": "execute_result",
          "data": {
            "text/plain": [
              "array([0., 0., 0., 0.])"
            ]
          },
          "metadata": {
            "tags": []
          },
          "execution_count": 3
        }
      ]
    },
    {
      "cell_type": "code",
      "metadata": {
        "colab": {
          "base_uri": "https://localhost:8080/"
        },
        "id": "RbZT_jQfrQOg",
        "outputId": "8bdb2a29-6dd9-4f9d-fb12-1f60a25f61f3"
      },
      "source": [
        "np.ones(3)"
      ],
      "execution_count": 4,
      "outputs": [
        {
          "output_type": "execute_result",
          "data": {
            "text/plain": [
              "array([1., 1., 1.])"
            ]
          },
          "metadata": {
            "tags": []
          },
          "execution_count": 4
        }
      ]
    },
    {
      "cell_type": "code",
      "metadata": {
        "colab": {
          "base_uri": "https://localhost:8080/"
        },
        "id": "u8rLABU5rT2t",
        "outputId": "a2bae233-376e-4e17-b30a-e5e315863932"
      },
      "source": [
        "np.zeros((3,4))"
      ],
      "execution_count": 5,
      "outputs": [
        {
          "output_type": "execute_result",
          "data": {
            "text/plain": [
              "array([[0., 0., 0., 0.],\n",
              "       [0., 0., 0., 0.],\n",
              "       [0., 0., 0., 0.]])"
            ]
          },
          "metadata": {
            "tags": []
          },
          "execution_count": 5
        }
      ]
    },
    {
      "cell_type": "code",
      "metadata": {
        "colab": {
          "base_uri": "https://localhost:8080/"
        },
        "id": "7wTZg3mZrXR-",
        "outputId": "3603fdff-35bb-4491-fe4d-0ae69b0f6a0a"
      },
      "source": [
        "np.ones((5,2))"
      ],
      "execution_count": 6,
      "outputs": [
        {
          "output_type": "execute_result",
          "data": {
            "text/plain": [
              "array([[1., 1.],\n",
              "       [1., 1.],\n",
              "       [1., 1.],\n",
              "       [1., 1.],\n",
              "       [1., 1.]])"
            ]
          },
          "metadata": {
            "tags": []
          },
          "execution_count": 6
        }
      ]
    },
    {
      "cell_type": "code",
      "metadata": {
        "colab": {
          "base_uri": "https://localhost:8080/"
        },
        "id": "nrGF5SeRrb1X",
        "outputId": "41c5d4fd-df35-46fb-baab-74b32a8baf7b"
      },
      "source": [
        "np.arange(10)"
      ],
      "execution_count": 7,
      "outputs": [
        {
          "output_type": "execute_result",
          "data": {
            "text/plain": [
              "array([0, 1, 2, 3, 4, 5, 6, 7, 8, 9])"
            ]
          },
          "metadata": {
            "tags": []
          },
          "execution_count": 7
        },
        {
          "output_type": "execute_result",
          "data": {
            "text/plain": [
              "array([0, 1, 2, 3, 4, 5, 6, 7, 8, 9])"
            ]
          },
          "metadata": {
            "tags": []
          },
          "execution_count": 8
        }
      ]
    },
    {
      "cell_type": "code",
      "metadata": {
        "colab": {
          "base_uri": "https://localhost:8080/"
        },
        "id": "FH_qSEEerlJb",
        "outputId": "8cbd7eb3-f07d-4c7c-f1e7-8ad627e61545"
      },
      "source": [
        "np.arange(2,10)"
      ],
      "execution_count": 9,
      "outputs": [
        {
          "output_type": "execute_result",
          "data": {
            "text/plain": [
              "array([2, 3, 4, 5, 6, 7, 8, 9])"
            ]
          },
          "metadata": {
            "tags": []
          },
          "execution_count": 9
        }
      ]
    },
    {
      "cell_type": "code",
      "metadata": {
        "colab": {
          "base_uri": "https://localhost:8080/"
        },
        "id": "4SXfDcW-rtNH",
        "outputId": "d62ddbed-6564-4c19-9efa-a6643b7e3e0d"
      },
      "source": [
        "np.arange(3,47,4)"
      ],
      "execution_count": 10,
      "outputs": [
        {
          "output_type": "execute_result",
          "data": {
            "text/plain": [
              "array([ 3,  7, 11, 15, 19, 23, 27, 31, 35, 39, 43])"
            ]
          },
          "metadata": {
            "tags": []
          },
          "execution_count": 10
        }
      ]
    },
    {
      "cell_type": "code",
      "metadata": {
        "colab": {
          "base_uri": "https://localhost:8080/"
        },
        "id": "qmYZ_20nrw4V",
        "outputId": "bfa5525e-b6fa-4250-e59e-1ec7acf114be"
      },
      "source": [
        "np.arange(4,5,0.1)"
      ],
      "execution_count": 11,
      "outputs": [
        {
          "output_type": "execute_result",
          "data": {
            "text/plain": [
              "array([4. , 4.1, 4.2, 4.3, 4.4, 4.5, 4.6, 4.7, 4.8, 4.9])"
            ]
          },
          "metadata": {
            "tags": []
          },
          "execution_count": 11
        }
      ]
    },
    {
      "cell_type": "code",
      "metadata": {
        "colab": {
          "base_uri": "https://localhost:8080/"
        },
        "id": "8lFR5hXlr4RC",
        "outputId": "9fb59d35-8c14-40e0-cb53-ebab0d49ffed"
      },
      "source": [
        "np.arange(2,-4,-0.5)"
      ],
      "execution_count": 12,
      "outputs": [
        {
          "output_type": "execute_result",
          "data": {
            "text/plain": [
              "array([ 2. ,  1.5,  1. ,  0.5,  0. , -0.5, -1. , -1.5, -2. , -2.5, -3. ,\n",
              "       -3.5])"
            ]
          },
          "metadata": {
            "tags": []
          },
          "execution_count": 12
        }
      ]
    },
    {
      "cell_type": "code",
      "metadata": {
        "colab": {
          "base_uri": "https://localhost:8080/"
        },
        "id": "R9ttzI5nr7qZ",
        "outputId": "e7a4b7f2-9977-4411-ecbd-05780e1a7b55"
      },
      "source": [
        "np.linspace(2,10,4)"
      ],
      "execution_count": 13,
      "outputs": [
        {
          "output_type": "execute_result",
          "data": {
            "text/plain": [
              "array([ 2.        ,  4.66666667,  7.33333333, 10.        ])"
            ]
          },
          "metadata": {
            "tags": []
          },
          "execution_count": 13
        }
      ]
    },
    {
      "cell_type": "code",
      "metadata": {
        "colab": {
          "base_uri": "https://localhost:8080/"
        },
        "id": "7_u1wqbbsCNa",
        "outputId": "36d7aa6e-77b1-4508-da52-892fcbae6c22"
      },
      "source": [
        "np.linspace(2,-4,4)"
      ],
      "execution_count": 14,
      "outputs": [
        {
          "output_type": "execute_result",
          "data": {
            "text/plain": [
              "array([ 2.,  0., -2., -4.])"
            ]
          },
          "metadata": {
            "tags": []
          },
          "execution_count": 14
        }
      ]
    },
    {
      "cell_type": "code",
      "metadata": {
        "id": "xrqG5yuasFCg"
      },
      "source": [
        "e=np.arange(0,20,2)"
      ],
      "execution_count": 15,
      "outputs": []
    },
    {
      "cell_type": "code",
      "metadata": {
        "colab": {
          "base_uri": "https://localhost:8080/"
        },
        "id": "CwS9EYAssLU-",
        "outputId": "97d4a4d1-65d1-4831-c905-a57709ca91d1"
      },
      "source": [
        "len(e)"
      ],
      "execution_count": 16,
      "outputs": [
        {
          "output_type": "execute_result",
          "data": {
            "text/plain": [
              "10"
            ]
          },
          "metadata": {
            "tags": []
          },
          "execution_count": 16
        }
      ]
    },
    {
      "cell_type": "code",
      "metadata": {
        "colab": {
          "base_uri": "https://localhost:8080/"
        },
        "id": "hgGYSmWSsM6A",
        "outputId": "68ffb403-4bbb-486c-fdfb-7cda86ae1c21"
      },
      "source": [
        "e.reshape(5,2)"
      ],
      "execution_count": 17,
      "outputs": [
        {
          "output_type": "execute_result",
          "data": {
            "text/plain": [
              "array([[ 0,  2],\n",
              "       [ 4,  6],\n",
              "       [ 8, 10],\n",
              "       [12, 14],\n",
              "       [16, 18]])"
            ]
          },
          "metadata": {
            "tags": []
          },
          "execution_count": 17
        }
      ]
    },
    {
      "cell_type": "code",
      "metadata": {
        "colab": {
          "base_uri": "https://localhost:8080/"
        },
        "id": "IDERna7gsSeO",
        "outputId": "329d1751-15ae-4435-a3cd-58fb0118c6f5"
      },
      "source": [
        "e.reshape(2,5)"
      ],
      "execution_count": 18,
      "outputs": [
        {
          "output_type": "execute_result",
          "data": {
            "text/plain": [
              "array([[ 0,  2,  4,  6,  8],\n",
              "       [10, 12, 14, 16, 18]])"
            ]
          },
          "metadata": {
            "tags": []
          },
          "execution_count": 18
        }
      ]
    },
    {
      "cell_type": "code",
      "metadata": {
        "colab": {
          "base_uri": "https://localhost:8080/"
        },
        "id": "WfjpfAobsWPh",
        "outputId": "7e1100b5-77ad-47f4-8f47-685db5046b4e"
      },
      "source": [
        "print(e)"
      ],
      "execution_count": 19,
      "outputs": [
        {
          "output_type": "stream",
          "text": [
            "[ 0  2  4  6  8 10 12 14 16 18]\n"
          ],
          "name": "stdout"
        }
      ]
    },
    {
      "cell_type": "code",
      "metadata": {
        "id": "QH6gZMq6sbtj"
      },
      "source": [
        "f=e.reshape(5,2)"
      ],
      "execution_count": 20,
      "outputs": []
    },
    {
      "cell_type": "code",
      "metadata": {
        "colab": {
          "base_uri": "https://localhost:8080/"
        },
        "id": "8hJk9_K8sdxj",
        "outputId": "f334755f-9c80-4ea5-d564-b73d74cf6070"
      },
      "source": [
        "print(f)"
      ],
      "execution_count": 21,
      "outputs": [
        {
          "output_type": "stream",
          "text": [
            "[[ 0  2]\n",
            " [ 4  6]\n",
            " [ 8 10]\n",
            " [12 14]\n",
            " [16 18]]\n"
          ],
          "name": "stdout"
        }
      ]
    },
    {
      "cell_type": "code",
      "metadata": {
        "colab": {
          "base_uri": "https://localhost:8080/"
        },
        "id": "wuzBnEOhshWm",
        "outputId": "108d63d0-2235-4397-bdf9-9aaf10d40477"
      },
      "source": [
        "np.random.random((3,4))"
      ],
      "execution_count": 22,
      "outputs": [
        {
          "output_type": "execute_result",
          "data": {
            "text/plain": [
              "array([[0.40181225, 0.97093377, 0.07576116, 0.54902224],\n",
              "       [0.71044588, 0.91148714, 0.0050122 , 0.08788228],\n",
              "       [0.55201868, 0.97484659, 0.54858482, 0.4364722 ]])"
            ]
          },
          "metadata": {
            "tags": []
          },
          "execution_count": 22
        }
      ]
    },
    {
      "cell_type": "code",
      "metadata": {
        "colab": {
          "base_uri": "https://localhost:8080/"
        },
        "id": "_eRj_4ftsmCt",
        "outputId": "ce50a647-29b9-4b13-804b-a42339198af2"
      },
      "source": [
        "np.random.randint(1,20,10)"
      ],
      "execution_count": 23,
      "outputs": [
        {
          "output_type": "execute_result",
          "data": {
            "text/plain": [
              "array([17,  7, 14,  3, 15,  4, 18,  6,  7, 13])"
            ]
          },
          "metadata": {
            "tags": []
          },
          "execution_count": 23
        }
      ]
    },
    {
      "cell_type": "code",
      "metadata": {
        "colab": {
          "base_uri": "https://localhost:8080/"
        },
        "id": "uY02zC8uspkW",
        "outputId": "fd3c6515-b6f0-46dd-86a1-e34d6c18822d"
      },
      "source": [
        "np.random.randn(3)"
      ],
      "execution_count": 24,
      "outputs": [
        {
          "output_type": "execute_result",
          "data": {
            "text/plain": [
              "array([-1.09237955,  0.14453924, -0.13181126])"
            ]
          },
          "metadata": {
            "tags": []
          },
          "execution_count": 24
        }
      ]
    },
    {
      "cell_type": "markdown",
      "metadata": {
        "id": "E-GiC4KMumiK"
      },
      "source": [
        "GRAFIK FREKUENSI 1800MHz (URBAN, OPEN, DAN SUB URBAN)"
      ]
    },
    {
      "cell_type": "code",
      "metadata": {
        "id": "26tsyOtEsw96"
      },
      "source": [
        "def cos(frek,tipe,ht,hr,d):\r\n",
        "    if frek in range(150,1501):\r\n",
        "        Ca=69.55\r\n",
        "        Cb=26.16\r\n",
        "    elif frek in range(1501,2001):\r\n",
        "        Ca=46.3\r\n",
        "        Cb=33.9\r\n",
        "    \r\n",
        "    if tipe=='urban' :\r\n",
        "        Cm=0\r\n",
        "    elif tipe=='suburban' :\r\n",
        "        Cm= -2*((np.log10((frek/28)**2))-5.4)\r\n",
        "    elif tipe=='open' :\r\n",
        "        Cm= -4.78*(np.log10(frek))+18.33*(np.log10(frek))-40.94\r\n",
        "    else :\r\n",
        "        Cm='tipe salah'\r\n",
        "    \r\n",
        "    ahr = (1.1*np.log10(frek)-0.7)*hr-(1.56*np.log10(frek)-1.8)\r\n",
        "    Lp = Ca+(Cb*np.log10(frek))-(13.83*np.log(ht))-ahr+((44.9-6.55*np.log10(ht))*np.log10(d))-Cm\r\n",
        "    \r\n",
        "    return Lp"
      ],
      "execution_count": 25,
      "outputs": []
    },
    {
      "cell_type": "code",
      "metadata": {
        "id": "55FSXsEbsy5J"
      },
      "source": [
        "f=1800 #MHz\r\n",
        "loc1='urban'\r\n",
        "loc2='open'\r\n",
        "loc3='suburban'\r\n",
        "tower=80 #m\r\n",
        "user=1.5 #m\r\n",
        "dmin=200 #m\r\n",
        "dmax=700 #m\r\n",
        "N=200 #titik\r\n",
        "d=np.random.randint(dmin,dmax,N)"
      ],
      "execution_count": 26,
      "outputs": []
    },
    {
      "cell_type": "code",
      "metadata": {
        "colab": {
          "base_uri": "https://localhost:8080/"
        },
        "id": "vC2Liwmvs4NG",
        "outputId": "f4673725-d6ff-4829-9786-3d84cf17fd49"
      },
      "source": [
        "print(d)"
      ],
      "execution_count": 27,
      "outputs": [
        {
          "output_type": "stream",
          "text": [
            "[668 659 627 530 246 247 601 404 689 611 481 669 377 355 548 397 335 388\n",
            " 362 424 253 413 687 343 550 249 557 652 429 651 314 257 412 628 318 603\n",
            " 476 280 423 673 458 569 489 586 440 546 208 375 486 640 516 203 616 264\n",
            " 251 217 670 247 314 655 383 622 686 338 522 362 645 393 440 542 531 206\n",
            " 404 226 475 686 586 450 314 255 542 698 681 223 415 609 626 350 551 560\n",
            " 497 495 325 228 509 601 657 520 667 329 682 485 652 282 475 358 672 505\n",
            " 630 280 412 269 419 426 207 258 295 219 246 433 323 658 690 348 432 225\n",
            " 250 466 614 359 575 532 585 530 548 534 647 506 403 626 282 684 306 336\n",
            " 594 450 434 282 438 619 630 294 360 476 409 201 582 420 654 491 658 368\n",
            " 499 467 588 548 364 217 222 656 304 469 557 284 385 532 560 558 302 616\n",
            " 654 276 698 428 359 388 680 521 227 399 631 305 521 286 240 326 238 537\n",
            " 290 226]\n"
          ],
          "name": "stdout"
        }
      ]
    },
    {
      "cell_type": "code",
      "metadata": {
        "id": "c2gcuxqCs8HE"
      },
      "source": [
        "LpUrban=cos(f,loc1,tower,user,d)\r\n",
        "LpOpen=cos(f,loc2,tower,user,d)\r\n",
        "LpSuburban=cos(f,loc3,tower,user,d)"
      ],
      "execution_count": 28,
      "outputs": []
    },
    {
      "cell_type": "code",
      "metadata": {
        "colab": {
          "base_uri": "https://localhost:8080/"
        },
        "id": "5nS0ZxWks_uA",
        "outputId": "fc586e7d-4b26-4051-abe1-05a94af4bf66"
      },
      "source": [
        "print(LpUrban, LpOpen, LpSuburban)"
      ],
      "execution_count": 29,
      "outputs": [
        {
          "output_type": "stream",
          "text": [
            "[186.62828331 186.43720858 185.73603802 183.36857064 172.55674281\n",
            " 172.61388787 185.13946324 179.54469061 187.06429599 185.37191467\n",
            " 182.00206845 186.64935472 178.57034992 177.72338111 183.83902675\n",
            " 179.29848294 176.90655882 178.97547226 177.99843493 180.22531757\n",
            " 172.9519738  179.85504867 187.0233476  177.23899284 183.89034279\n",
            " 172.72748718 184.0684909  186.28678204 180.39045706 186.26516079\n",
            " 175.99465037 173.17293892 179.8209002  185.75848621 176.17295956\n",
            " 185.18626141 181.85487549 174.3803199  180.19205607 186.73332658\n",
            " 181.31186977 184.36874179 182.23442403 184.78343154 180.74708972\n",
            " 183.78752308 170.19316433 178.49542295 182.14773921 186.02511066\n",
            " 182.99147866 169.85041658 185.48671757 173.55147864 172.84017768\n",
            " 170.78984712 186.67039466 172.61388787 175.99465037 186.35144736\n",
            " 178.79276882 185.62325729 187.00282867 177.03214275 183.15432715\n",
            " 177.99843493 186.13473173 179.15583628 180.74708972 183.68394734\n",
            " 183.3951234  170.05706436 179.54469061 171.36227866 181.82525143\n",
            " 187.00282867 184.78343154 181.06364771 175.99465037 173.06288963\n",
            " 183.68394734 187.24710481 186.89978332 171.17404105 179.92309826\n",
            " 185.32573025 185.713554   177.52357297 183.91593088 184.14415574\n",
            " 182.46300896 182.40620954 176.47967047 171.48638728 182.79907828\n",
            " 185.13946324 186.39439323 183.10025324 186.60718033 176.65198134\n",
            " 186.92045278 182.11872533 186.28678204 174.48057824 181.82525143\n",
            " 177.84191957 186.7123805  182.68794368 185.80327556 174.3803199\n",
            " 179.8209002  173.81576852 180.05821908 180.29160587 170.12527872\n",
            " 173.22764283 175.11542082 170.91907957 172.55674281 180.52118874\n",
            " 176.39271811 186.41581717 187.08472564 177.44284933 180.48861939\n",
            " 171.29981187 172.78394512 181.5557934  185.44090863 177.88121175\n",
            " 184.51650088 183.42162621 184.75937306 183.36857064 183.83902675\n",
            " 183.4744827  186.17834241 182.71580964 179.50978046 185.713554\n",
            " 174.48057824 186.96170094 175.63111439 176.94854466 184.9744343\n",
            " 181.06364771 180.55368296 174.48057824 180.68291541 185.55515287\n",
            " 185.80327556 175.06758974 177.92039464 181.85487549 179.71795525\n",
            " 169.71094774 184.68695008 180.09179773 186.32992522 182.29191895\n",
            " 186.41581717 178.22999474 182.51958027 181.58598899 184.83142558\n",
            " 183.83902675 178.07604525 170.78984712 171.11073201 186.37293666\n",
            " 175.53874529 181.64618668 184.0684909  174.58012804 178.8661348\n",
            " 183.42162621 184.14415574 184.0937577  175.44576648 185.48671757\n",
            " 186.32992522 174.17763673 187.24710481 180.35758368 177.88121175\n",
            " 178.97547226 186.87908348 183.12731614 171.42446965 179.3692682\n",
            " 185.82561694 175.58500555 183.12731614 174.67897923 172.20891681\n",
            " 176.5229462  172.09103965 183.5533974  174.87462457 171.36227866] [183.45934086 183.26826614 182.56709558 180.19962819 169.38780037\n",
            " 169.44494543 181.97052079 176.37574817 183.89535355 182.20297223\n",
            " 178.833126   183.48041228 175.40140748 174.55443866 180.67008431\n",
            " 176.12954049 173.73761638 175.80652981 174.82949249 177.05637512\n",
            " 169.78303136 176.68610622 183.85440515 174.07005039 180.72140035\n",
            " 169.55854473 180.89954845 183.11783959 177.22151462 183.09621835\n",
            " 172.82570793 170.00399648 176.65195775 182.58954377 173.00401711\n",
            " 182.01731897 178.68593305 171.21137746 177.02311363 183.56438414\n",
            " 178.14292732 181.19979934 179.06548158 181.6144891  177.57814728\n",
            " 180.61858064 167.02422189 175.3264805  178.97879677 182.85616821\n",
            " 179.82253622 166.68147414 182.31777513 170.3825362  169.67123523\n",
            " 167.62090468 183.50145222 169.44494543 172.82570793 183.18250491\n",
            " 175.62382637 182.45431485 183.83388623 173.86320031 179.98538471\n",
            " 174.82949249 182.96578929 175.98689383 177.57814728 180.51500489\n",
            " 180.22618096 166.88812191 176.37574817 168.19333621 178.65630898\n",
            " 183.83388623 181.6144891  177.89470526 172.82570793 169.89394719\n",
            " 180.51500489 184.07816237 183.73084087 168.00509861 176.75415581\n",
            " 182.1567878  182.54461155 174.35463053 180.74698843 180.97521329\n",
            " 179.29406652 179.23726709 173.31072803 168.31744483 179.63013584\n",
            " 181.97052079 183.22545079 179.9313108  183.43823788 173.48303889\n",
            " 183.75151034 178.94978288 183.11783959 171.3116358  178.65630898\n",
            " 174.67297713 183.54343805 179.51900124 182.63433311 171.21137746\n",
            " 176.65195775 170.64682608 176.88927663 177.12266342 166.95633627\n",
            " 170.05870038 171.94647837 167.75013712 169.38780037 177.3522463\n",
            " 173.22377567 183.24687473 183.91578319 174.27390688 177.31967695\n",
            " 168.13086942 169.61500267 178.38685095 182.27196619 174.71226931\n",
            " 181.34755843 180.25268377 181.59043061 180.19962819 180.67008431\n",
            " 180.30554025 183.00939997 179.5468672  176.34083802 182.54461155\n",
            " 171.3116358  183.7927585  172.46217195 173.77960221 181.80549185\n",
            " 177.89470526 177.38474052 171.3116358  177.51397296 182.38621042\n",
            " 182.63433311 171.8986473  174.75145219 178.68593305 176.54901281\n",
            " 166.5420053  181.51800764 176.92285529 183.16098277 179.12297651\n",
            " 183.24687473 175.06105229 179.35063783 178.41704654 181.66248314\n",
            " 180.67008431 174.90710281 167.62090468 167.94178957 183.20399422\n",
            " 172.36980284 178.47724423 180.89954845 171.41118559 175.69719236\n",
            " 180.25268377 180.97521329 180.92481525 172.27682404 182.31777513\n",
            " 183.16098277 171.00869428 184.07816237 177.18864124 174.71226931\n",
            " 175.80652981 183.71014103 179.9583737  168.25552721 176.20032576\n",
            " 182.65667449 172.41606311 179.9583737  171.51003679 169.03997436\n",
            " 173.35400375 168.92209721 180.38445496 171.70568212 168.19333621] [183.0607412  182.86966647 182.16849591 179.80102853 168.98920071\n",
            " 169.04634577 181.57192113 175.97714851 183.49675389 181.80437257\n",
            " 178.43452634 183.08181262 175.00280781 174.155839   180.27148464\n",
            " 175.73094083 173.33901672 175.40793015 174.43089283 176.65777546\n",
            " 169.3844317  176.28750656 183.45580549 173.67145073 180.32280069\n",
            " 169.15994507 180.50094879 182.71923993 176.82291496 182.69761869\n",
            " 172.42710827 169.60539682 176.25335809 182.19094411 172.60541745\n",
            " 181.61871931 178.28733339 170.8127778  176.62451397 183.16578447\n",
            " 177.74432766 180.80119968 178.66688192 181.21588943 177.17954762\n",
            " 180.21998098 166.62562223 174.92788084 178.58019711 182.45756855\n",
            " 179.42393656 166.28287448 181.91917547 169.98393654 169.27263557\n",
            " 167.22230502 183.10285256 169.04634577 172.42710827 182.78390525\n",
            " 175.22522671 182.05571519 183.43528657 173.46460065 179.58678505\n",
            " 174.43089283 182.56718963 175.58829417 177.17954762 180.11640523\n",
            " 179.8275813  166.48952225 175.97714851 167.79473655 178.25770932\n",
            " 183.43528657 181.21588943 177.4961056  172.42710827 169.49534753\n",
            " 180.11640523 183.67956271 183.33224121 167.60649895 176.35555615\n",
            " 181.75818814 182.14601189 173.95603087 180.34838877 180.57661363\n",
            " 178.89546686 178.83866743 172.91212837 167.91884517 179.23153618\n",
            " 181.57192113 182.82685113 179.53271113 183.03963822 173.08443923\n",
            " 183.35291068 178.55118322 182.71923993 170.91303614 178.25770932\n",
            " 174.27437747 183.14483839 179.12040158 182.23573345 170.8127778\n",
            " 176.25335809 170.24822642 176.49067697 176.72406376 166.55773661\n",
            " 169.66010072 171.54787871 167.35153746 168.98920071 176.95364664\n",
            " 172.82517601 182.84827507 183.51718353 173.87530722 176.92107729\n",
            " 167.73226976 169.21640301 177.98825129 181.87336652 174.31366965\n",
            " 180.94895877 179.8540841  181.19183095 179.80102853 180.27148464\n",
            " 179.90694059 182.61080031 179.14826754 175.94223836 182.14601189\n",
            " 170.91303614 183.39415884 172.06357228 173.38100255 181.40689219\n",
            " 177.4961056  176.98614086 170.91303614 177.1153733  181.98761076\n",
            " 182.23573345 171.50004764 174.35285253 178.28733339 176.15041315\n",
            " 166.14340564 181.11940798 176.52425562 182.76238311 178.72437685\n",
            " 182.84827507 174.66245263 178.95203817 178.01844688 181.26388348\n",
            " 180.27148464 174.50850315 167.22230502 167.54318991 182.80539456\n",
            " 171.97120318 178.07864457 180.50094879 171.01258593 175.2985927\n",
            " 179.8540841  180.57661363 180.52621559 171.87822438 181.91917547\n",
            " 182.76238311 170.61009462 183.67956271 176.79004158 174.31366965\n",
            " 175.40793015 183.31154137 179.55977404 167.85692755 175.8017261\n",
            " 182.25807483 172.01746345 179.55977404 171.11143713 168.6413747\n",
            " 172.95540409 168.52349755 179.9858553  171.30708246 167.79473655]\n"
          ],
          "name": "stdout"
        }
      ]
    },
    {
      "cell_type": "code",
      "metadata": {
        "colab": {
          "base_uri": "https://localhost:8080/",
          "height": 279
        },
        "id": "waMIL4UXtHEA",
        "outputId": "717d709c-0378-44e8-f568-e4ff8b8c2124"
      },
      "source": [
        "plt.figure()\r\n",
        "plt.plot(d,LpUrban)\r\n",
        "plt.plot(d,LpOpen)\r\n",
        "plt.plot(d,LpSuburban)\r\n",
        "plt.xlabel('Jarak (m)')\r\n",
        "plt.ylabel('Path Loss (dB)')\r\n",
        "plt.show()"
      ],
      "execution_count": 30,
      "outputs": [
        {
          "output_type": "display_data",
          "data": {
            "image/png": "[encoded data removed]",
            "text/plain": [
              "<Figure size 432x288 with 1 Axes>"
            ]
          },
          "metadata": {
            "tags": [],
            "needs_background": "light"
          }
        }
      ]
    },
    {
      "cell_type": "code",
      "metadata": {
        "id": "rdO1bvdftJ0s"
      },
      "source": [
        "d_sort=d[np.argsort(d)]\r\n",
        "Urban_sort1=LpUrban[np.argsort(d)]\r\n",
        "Open_sort2=LpOpen[np.argsort(d)]\r\n",
        "Suburban_sort3=LpSuburban[np.argsort(d)]"
      ],
      "execution_count": 31,
      "outputs": []
    },
    {
      "cell_type": "code",
      "metadata": {
        "colab": {
          "base_uri": "https://localhost:8080/",
          "height": 295
        },
        "id": "BM3UiQHltMtI",
        "outputId": "32ac0893-a92f-4a9b-f1e2-e3a874cbb56b"
      },
      "source": [
        "plt.figure()\r\n",
        "plt.title('FREKUENSI 1800MHz (URBAN, OPEN, SUBURBAN)')\r\n",
        "plt.plot(d_sort,Urban_sort1, label='Urban')\r\n",
        "plt.plot(d_sort,Open_sort2, label=\"Open\")\r\n",
        "plt.plot(d_sort,Suburban_sort3, label=\"Suburban\")\r\n",
        "plt.legend()\r\n",
        "plt.xlabel('Jarak (m)')\r\n",
        "plt.ylabel('Path Loss (dB)')\r\n",
        "plt.show()"
      ],
      "execution_count": 32,
      "outputs": [
        {
          "output_type": "display_data",
          "data": {
            "image/png": "[encoded data removed]",
            "text/plain": [
              "<Figure size 432x288 with 1 Axes>"
            ]
          },
          "metadata": {
            "tags": [],
            "needs_background": "light"
          }
        }
      ]
    },
    {
      "cell_type": "markdown",
      "metadata": {
        "id": "cSqjfKFYu6bs"
      },
      "source": [
        "GRAFIK MODEL URBAN (700MHz, 900MHz, dan 1800MHz)"
      ]
    },
    {
      "cell_type": "code",
      "metadata": {
        "id": "msrH-so0tXvd"
      },
      "source": [
        "def cos(frek,tipe,ht,hr,d):\r\n",
        "    if frek in range(150,1501):\r\n",
        "        Ca=69.55\r\n",
        "        Cb=26.16\r\n",
        "    elif frek in range(1501,2001):\r\n",
        "        Ca=46.3\r\n",
        "        Cb=33.9\r\n",
        "    \r\n",
        "    if tipe=='urban' :\r\n",
        "        Cm=0\r\n",
        "    elif tipe=='suburban' :\r\n",
        "        Cm= -2*((np.log10((frek/28)**2))-5.4)\r\n",
        "    elif tipe=='open' :\r\n",
        "        Cm= -4.78*(np.log10(frek))+18.33*(np.log10(frek))-40.94\r\n",
        "    else :\r\n",
        "        Cm='tipe salah'\r\n",
        "    \r\n",
        "    ahr = (1.1*np.log10(frek)-0.7)*hr-(1.56*np.log10(frek)-1.8)\r\n",
        "    Lp = Ca+(Cb*np.log10(frek))-(13.83*np.log(ht))-ahr+((44.9-6.55*np.log10(ht))*np.log10(d))-Cm\r\n",
        "    \r\n",
        "    return Lp"
      ],
      "execution_count": 33,
      "outputs": []
    },
    {
      "cell_type": "code",
      "metadata": {
        "id": "r7bEzUuntavz"
      },
      "source": [
        "f1=700 #MHz\r\n",
        "f2=900 #MHz\r\n",
        "f3=1800 #MHz\r\n",
        "loc='urban'\r\n",
        "tower=80 #m\r\n",
        "user=1.5 #m\r\n",
        "dmin=200 #m\r\n",
        "dmax=700 #m\r\n",
        "N=200 #titik\r\n",
        "d=np.random.randint(dmin,dmax,N)"
      ],
      "execution_count": 34,
      "outputs": []
    },
    {
      "cell_type": "code",
      "metadata": {
        "colab": {
          "base_uri": "https://localhost:8080/"
        },
        "id": "20O-TO_stgjq",
        "outputId": "d091adb9-a815-4fc6-f3c3-ae8f4d24e2ac"
      },
      "source": [
        "print(d)"
      ],
      "execution_count": 35,
      "outputs": [
        {
          "output_type": "stream",
          "text": [
            "[613 667 295 205 409 642 249 252 394 265 666 420 305 208 459 394 322 449\n",
            " 692 548 688 541 330 226 466 407 367 211 278 291 543 252 556 576 331 241\n",
            " 460 209 462 210 538 209 417 372 560 215 439 390 476 365 234 283 325 539\n",
            " 213 279 364 688 429 531 434 659 383 353 217 688 267 367 650 215 642 588\n",
            " 288 653 623 604 368 483 572 624 479 312 284 320 677 516 668 339 278 254\n",
            " 686 597 639 250 394 470 567 655 576 272 232 256 598 329 297 522 517 497\n",
            " 377 493 667 670 472 525 487 512 533 330 452 379 205 671 660 564 637 443\n",
            " 515 301 208 656 529 278 202 552 554 488 407 673 418 453 667 600 306 353\n",
            " 558 693 258 452 510 652 500 555 381 590 603 514 630 604 343 397 548 297\n",
            " 631 365 307 586 281 316 690 234 673 384 264 631 680 372 585 477 381 623\n",
            " 379 370 668 499 305 698 528 203 273 648 609 268 407 547 299 500 615 569\n",
            " 342 328]\n"
          ],
          "name": "stdout"
        }
      ]
    },
    {
      "cell_type": "code",
      "metadata": {
        "id": "i03W3gz3tkjf"
      },
      "source": [
        "LpUrban700=cos(f1,loc,tower,user,d)\r\n",
        "LpUrban900=cos(f2,loc,tower,user,d)\r\n",
        "LpUrban1800=cos(f3,loc,tower,user,d)"
      ],
      "execution_count": 36,
      "outputs": []
    },
    {
      "cell_type": "code",
      "metadata": {
        "colab": {
          "base_uri": "https://localhost:8080/"
        },
        "id": "3KzqCwpQtpnp",
        "outputId": "d6a1b8a8-f34c-4e54-9433-d71550a069ec"
      },
      "source": [
        "print(LpUrban700, LpUrban900, LpUrban1800)"
      ],
      "execution_count": 37,
      "outputs": [
        {
          "output_type": "stream",
          "text": [
            "[172.77889068 173.96812283 162.47636332 157.34946056 167.07889776\n",
            " 173.43000402 160.08842968 160.25712916 166.5525761  160.96567731\n",
            " 173.94698819 167.45274023 162.94594806 157.55410684 168.70353472\n",
            " 166.5525761  163.70998233 168.39325263 174.48643876 171.19996926\n",
            " 174.40477918 171.01887647 164.05567422 158.72322116 168.9167359\n",
            " 167.00984743 165.55260732 157.75582252 161.64028536 162.28405675\n",
            " 171.07085527 160.25712916 171.4041212  171.90191991 164.09829524\n",
            " 159.62843003 168.73419031 157.62166686 168.79530207 157.6889044\n",
            " 170.94054687 157.62166686 167.35176319 165.74322237 171.50509824\n",
            " 158.02036057 168.07598161 166.40883774 169.215818   165.47563315\n",
            " 159.21322666 161.89138359 163.84061298 170.96670516 157.88871253\n",
            " 161.69086436 165.43698776 174.40477918 167.75139957 170.75606591\n",
            " 167.91462547 173.79815109 166.15371132 165.00474014 158.15078963\n",
            " 174.40477918 161.07158937 165.55260732 173.60444882 158.02036057\n",
            " 173.43000402 172.19236809 162.13808407 173.66931265 173.0068283\n",
            " 172.57054483 165.59093724 169.42146015 171.80375758 173.0294205\n",
            " 169.30431821 163.26558467 161.94107054 163.62221732 174.17774333\n",
            " 170.35242117 173.98922581 164.43469899 161.64028536 160.36848339\n",
            " 174.36377118 172.40634037 173.3640262  160.14488762 166.5525761\n",
            " 169.03713183 171.68008481 173.71238986 171.90191991 161.33293708\n",
            " 159.092314   160.47896425 172.42991566 164.01292384 162.57154096\n",
            " 170.51526966 170.37969366 169.82395147 165.93129243 169.71012266\n",
            " 173.96812283 174.03133717 169.09694609 170.59599331 169.53763597\n",
            " 170.24280009 170.80902175 164.05567422 168.487057   166.00582296\n",
            " 157.34946056 174.05234573 173.81951005 171.60535659 173.31986868\n",
            " 168.20374882 170.32509577 162.75998842 157.55410684 173.73387917\n",
            " 170.70291023 161.64028536 157.14179728 171.30241507 171.35335993\n",
            " 169.56653082 167.00984743 174.09426909 167.3855027  168.51818682\n",
            " 173.96812283 172.47694822 162.9920569  165.00474014 171.4547002\n",
            " 174.5067799  160.58858533 168.487057   170.18766798 173.64772454\n",
            " 169.90872346 171.37876343 166.07996122 172.24019916 172.54720392\n",
            " 170.29771727 173.16421806 172.57054483 164.59993534 166.65942544\n",
            " 171.19996926 162.57154096 173.18655944 165.47563315 163.0380153\n",
            " 172.14437405 161.79148078 163.44502961 174.44566814 159.21322666\n",
            " 174.09426909 166.19044208 160.91242115 173.18655944 174.24002598\n",
            " 165.74322237 172.12031556 169.24537989 166.07996122 173.0068283\n",
            " 166.00582296 165.6672856  173.98922581 169.88052278 162.94594806\n",
            " 174.60804732 170.67625698 157.21135909 161.38462975 173.56103973\n",
            " 172.68667275 161.12424826 167.00984743 171.17424096 162.66607983\n",
            " 169.90872346 172.82477423 171.72968429 164.55880761 163.97004333] [175.624287   176.81351915 165.32175964 160.19485688 169.92429407\n",
            " 176.27540033 162.933826   163.10252547 169.39797242 163.81107362\n",
            " 176.79238451 170.29813655 165.79134437 160.39950315 171.54893104\n",
            " 169.39797242 166.55537864 171.23864895 177.33183507 174.04536557\n",
            " 177.2501755  173.86427279 166.90107053 161.56861748 171.76213222\n",
            " 169.85524375 168.39800364 160.60121883 164.48568168 165.12945307\n",
            " 173.91625158 163.10252547 174.24951752 174.74731623 166.94369156\n",
            " 162.47382635 171.57958663 160.46706318 171.64069839 160.53430071\n",
            " 173.78594319 160.46706318 170.19715951 168.58861869 174.35049456\n",
            " 160.86575689 170.92137793 169.25423405 172.06121432 168.32102947\n",
            " 162.05862297 164.73677991 166.68600929 173.81210148 160.73410885\n",
            " 164.53626068 168.28238408 177.2501755  170.59679589 173.60146223\n",
            " 170.76002179 176.6435474  168.99910764 167.85013646 160.99618595\n",
            " 177.2501755  163.91698568 168.39800364 176.44984513 160.86575689\n",
            " 176.27540033 175.0377644  164.98348039 176.51470897 175.85222462\n",
            " 175.41594115 168.43633356 172.26685647 174.6491539  175.87481682\n",
            " 172.14971453 166.11098098 164.78646686 166.46761364 177.02313965\n",
            " 173.19781749 176.83462213 167.28009531 164.48568168 163.21387971\n",
            " 177.2091675  175.25173668 176.20942252 162.99028394 169.39797242\n",
            " 171.88252815 174.52548113 176.55778618 174.74731623 164.17833339\n",
            " 161.93771032 163.32436057 175.27531198 166.85832016 165.41693728\n",
            " 173.36066598 173.22508998 172.66934778 168.77668874 172.55551898\n",
            " 176.81351915 176.87673349 171.94234241 173.44138962 172.38303229\n",
            " 173.08819641 173.65441807 166.90107053 171.33245332 168.85121927\n",
            " 160.19485688 176.89774205 176.66490637 174.4507529  176.165265\n",
            " 171.04914514 173.17049209 165.60538474 160.39950315 176.57927549\n",
            " 173.54830655 164.48568168 159.9871936  174.14781139 174.19875625\n",
            " 172.41192714 169.85524375 176.9396654  170.23089901 171.36358314\n",
            " 176.81351915 175.32234454 165.83745321 167.85013646 174.30009652\n",
            " 177.35217621 163.43398165 171.33245332 173.03306429 176.49312086\n",
            " 172.75411978 174.22415975 168.92535754 175.08559548 175.39260023\n",
            " 173.14311358 176.00961438 175.41594115 167.44533166 169.50482176\n",
            " 174.04536557 165.41693728 176.03195576 168.32102947 165.88341161\n",
            " 174.98977036 164.63687709 166.29042593 177.29106446 162.05862297\n",
            " 176.9396654  169.0358384  163.75781746 176.03195576 177.0854223\n",
            " 168.58861869 174.96571188 172.09077621 168.92535754 175.85222462\n",
            " 168.85121927 168.51268192 176.83462213 172.7259191  165.79134437\n",
            " 177.45344364 173.5216533  160.0567554  164.23002607 176.40643605\n",
            " 175.53206907 163.96964458 169.85524375 174.01963728 165.51147614\n",
            " 172.75411978 175.67017055 174.57508061 167.40420393 166.81543965] [185.41794817 186.60718033 175.11542082 169.98851806 179.71795525\n",
            " 186.06906151 172.72748718 172.89618665 179.19163359 173.6047348\n",
            " 186.58604568 180.09179773 175.58500555 170.19316433 181.34259222\n",
            " 179.19163359 176.34903982 181.03231012 187.12549625 183.83902675\n",
            " 187.04383667 183.65793397 176.69473171 171.36227866 181.5557934\n",
            " 179.64890493 178.19166482 170.39488001 174.27934286 174.92311425\n",
            " 183.70991276 172.89618665 184.04317869 184.5409774  176.73735273\n",
            " 172.26748753 181.37324781 170.26072435 181.43435956 170.32796189\n",
            " 183.57960436 170.26072435 179.99082068 178.38227987 184.14415574\n",
            " 170.65941807 180.71503911 179.04789523 181.85487549 178.11469065\n",
            " 171.85228415 174.53044108 176.47967047 183.60576266 170.52777003\n",
            " 174.32992186 178.07604525 187.04383667 180.39045706 183.3951234\n",
            " 180.55368296 186.43720858 178.79276882 177.64379763 170.78984712\n",
            " 187.04383667 173.71064686 178.19166482 186.24350631 170.65941807\n",
            " 186.06906151 184.83142558 174.77714157 186.30837014 185.64588579\n",
            " 185.20960232 178.22999474 182.06051765 184.44281507 185.668478\n",
            " 181.94337571 175.90464216 174.58012804 176.26127482 186.81680082\n",
            " 182.99147866 186.62828331 177.07375648 174.27934286 173.00754089\n",
            " 187.00282867 185.04539786 186.0030837  172.78394512 179.19163359\n",
            " 181.67618932 184.31914231 186.35144736 184.5409774  173.97199457\n",
            " 171.7313715  173.11802175 185.06897316 176.65198134 175.21059846\n",
            " 183.15432715 183.01875116 182.46300896 178.57034992 182.34918016\n",
            " 186.60718033 186.67039466 181.73600358 183.2350508  182.17669346\n",
            " 182.88185758 183.44807925 176.69473171 181.12611449 178.64488045\n",
            " 169.98851806 186.69140322 186.45856755 184.24441408 185.95892618\n",
            " 180.84280631 182.96415327 175.39904592 170.19316433 186.37293666\n",
            " 183.34196773 174.27934286 169.78085477 183.94147257 183.99241742\n",
            " 182.20558832 179.64890493 186.73332658 180.02456019 181.15724431\n",
            " 186.60718033 185.11600572 175.63111439 177.64379763 184.0937577\n",
            " 187.14583739 173.22764283 181.12611449 182.82672547 186.28678204\n",
            " 182.54778096 184.01782092 178.71901871 184.87925665 185.18626141\n",
            " 182.93677476 185.80327556 185.20960232 177.23899284 179.29848294\n",
            " 183.83902675 175.21059846 185.82561694 178.11469065 175.67707279\n",
            " 184.78343154 174.43053827 176.0840871  187.08472564 171.85228415\n",
            " 186.73332658 178.82949958 173.55147864 185.82561694 186.87908348\n",
            " 178.38227987 184.75937306 181.88443739 178.71901871 185.64588579\n",
            " 178.64488045 178.30634309 186.62828331 182.51958027 175.58500555\n",
            " 187.24710481 183.31531448 169.85041658 174.02368724 186.20009722\n",
            " 185.32573025 173.76330575 179.64890493 183.81329845 175.30513732\n",
            " 182.54778096 185.46383172 184.36874179 177.19786511 176.60910082]\n"
          ],
          "name": "stdout"
        }
      ]
    },
    {
      "cell_type": "code",
      "metadata": {
        "colab": {
          "base_uri": "https://localhost:8080/",
          "height": 279
        },
        "id": "TG7mWkfXttVW",
        "outputId": "878b620f-d94e-4e5e-9f68-6c501cac707f"
      },
      "source": [
        "plt.figure()\r\n",
        "plt.plot(d,LpUrban700)\r\n",
        "plt.plot(d,LpUrban900)\r\n",
        "plt.plot(d,LpUrban1800)\r\n",
        "plt.xlabel('Jarak (m)')\r\n",
        "plt.ylabel('Path Loss (dB)')\r\n",
        "plt.show()"
      ],
      "execution_count": 38,
      "outputs": [
        {
          "output_type": "display_data",
          "data": {
            "image/png": "[encoded data removed]",
            "text/plain": [
              "<Figure size 432x288 with 1 Axes>"
            ]
          },
          "metadata": {
            "tags": [],
            "needs_background": "light"
          }
        }
      ]
    },
    {
      "cell_type": "code",
      "metadata": {
        "id": "kOZScekptyn_"
      },
      "source": [
        "d_sort=d[np.argsort(d)]\r\n",
        "Urban_sort1=LpUrban700[np.argsort(d)]\r\n",
        "Urban_sort2=LpUrban900[np.argsort(d)]\r\n",
        "Urban_sort3=LpUrban1800[np.argsort(d)]"
      ],
      "execution_count": 39,
      "outputs": []
    },
    {
      "cell_type": "code",
      "metadata": {
        "colab": {
          "base_uri": "https://localhost:8080/",
          "height": 295
        },
        "id": "OtZsqUr4t4zc",
        "outputId": "41980d0a-3905-48ff-9797-7bfbdce75eb7"
      },
      "source": [
        "plt.figure()\r\n",
        "plt.plot(d_sort,Urban_sort1, label='700MHz')\r\n",
        "plt.plot(d_sort,Urban_sort2, label='900MHz')\r\n",
        "plt.plot(d_sort,Urban_sort3, label='1800MHz')\r\n",
        "plt.legend()\r\n",
        "plt.title('MODEL URBAN (700MHz, 900MHz, 1800MHz)')\r\n",
        "plt.xlabel('Jarak (m)')\r\n",
        "plt.ylabel('Path Loss (dB)')\r\n",
        "plt.show()"
      ],
      "execution_count": 40,
      "outputs": [
        {
          "output_type": "display_data",
          "data": {
            "image/png": "[encoded data removed]",
            "text/plain": [
              "<Figure size 432x288 with 1 Axes>"
            ]
          },
          "metadata": {
            "tags": [],
            "needs_background": "light"
          }
        }
      ]
    },
    {
      "cell_type": "code",
      "metadata": {
        "id": "Ez24vddst9N5"
      },
      "source": [
        ""
      ],
      "execution_count": null,
      "outputs": []
    }
  ]
}